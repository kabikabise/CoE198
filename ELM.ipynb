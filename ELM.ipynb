{
  "nbformat": 4,
  "nbformat_minor": 0,
  "metadata": {
    "colab": {
      "name": "Copy of ELM.ipynb",
      "provenance": [],
      "collapsed_sections": [],
      "include_colab_link": true
    },
    "kernelspec": {
      "name": "python3",
      "display_name": "Python 3"
    }
  },
  "cells": [
    {
      "cell_type": "markdown",
      "metadata": {
        "id": "view-in-github",
        "colab_type": "text"
      },
      "source": [
        "<a href=\"https://colab.research.google.com/github/kabikabise/CoE198/blob/master/ELM.ipynb\" target=\"_parent\"><img src=\"https://colab.research.google.com/assets/colab-badge.svg\" alt=\"Open In Colab\"/></a>"
      ]
    },
    {
      "cell_type": "code",
      "metadata": {
        "id": "6rRL57_1r7LB",
        "colab_type": "code",
        "outputId": "d4196bf8-3d0a-42bc-9378-2054b55d50e1",
        "colab": {
          "base_uri": "https://localhost:8080/",
          "height": 121
        }
      },
      "source": [
        "from google.colab import drive\n",
        "drive.mount('/content/drive')"
      ],
      "execution_count": 0,
      "outputs": [
        {
          "output_type": "stream",
          "text": [
            "Go to this URL in a browser: https://accounts.google.com/o/oauth2/auth?client_id=947318989803-6bn6qk8qdgf4n4g3pfee6491hc0brc4i.apps.googleusercontent.com&redirect_uri=urn%3aietf%3awg%3aoauth%3a2.0%3aoob&response_type=code&scope=email%20https%3a%2f%2fwww.googleapis.com%2fauth%2fdocs.test%20https%3a%2f%2fwww.googleapis.com%2fauth%2fdrive%20https%3a%2f%2fwww.googleapis.com%2fauth%2fdrive.photos.readonly%20https%3a%2f%2fwww.googleapis.com%2fauth%2fpeopleapi.readonly\n",
            "\n",
            "Enter your authorization code:\n",
            "··········\n",
            "Mounted at /content/drive\n"
          ],
          "name": "stdout"
        }
      ]
    },
    {
      "cell_type": "code",
      "metadata": {
        "id": "dzaUUZpFKs7Q",
        "colab_type": "code",
        "colab": {}
      },
      "source": [
        "%matplotlib inline\n",
        "import pandas as pd\n",
        "import numpy as np\n",
        "import matplotlib.pyplot as plt\n",
        "from OR_ELM import ORELM"
      ],
      "execution_count": 0,
      "outputs": []
    },
    {
      "cell_type": "code",
      "metadata": {
        "id": "AxYDj0T-LvyX",
        "colab_type": "code",
        "outputId": "c5e9bbd3-b50b-46f6-a0b0-9c49f6fc2f74",
        "colab": {
          "base_uri": "https://localhost:8080/",
          "height": 299
        }
      },
      "source": [
        "def getTimeEmbeddedMatrix(sequence, numLags=100, predictionStep=1):\n",
        "  print (\"generate time embedded matrix \")\n",
        "  inDim = numLags\n",
        "  X = np.zeros(shape=(len(sequence), inDim))\n",
        "  T = np.zeros(shape=(len(sequence), 1))\n",
        "  for i in xrange(numLags-1, len(sequence)-predictionStep):\n",
        "    X[i, :] = np.array(sequence['data'][(i-numLags+1):(i+1)])\n",
        "    T[i, :] = sequence['data'][i+predictionStep]\n",
        "  return (X, T)\n",
        "\n",
        "url = 'https://raw.githubusercontent.com/kabikabise/CoE198/master/QuezonCity_Philippines1920_Solcast_PT60M.csv?token=AIH7HYLQKZ6NZ6RFJBGTLHS6JSOCW'\n",
        "train = pd.read_csv(url, header=0, skiprows=[1])\n",
        "train.head()\n",
        "\n",
        "\n"
      ],
      "execution_count": 0,
      "outputs": [
        {
          "output_type": "execute_result",
          "data": {
            "text/html": [
              "<div>\n",
              "<style scoped>\n",
              "    .dataframe tbody tr th:only-of-type {\n",
              "        vertical-align: middle;\n",
              "    }\n",
              "\n",
              "    .dataframe tbody tr th {\n",
              "        vertical-align: top;\n",
              "    }\n",
              "\n",
              "    .dataframe thead th {\n",
              "        text-align: right;\n",
              "    }\n",
              "</style>\n",
              "<table border=\"1\" class=\"dataframe\">\n",
              "  <thead>\n",
              "    <tr style=\"text-align: right;\">\n",
              "      <th></th>\n",
              "      <th>PeriodEnd</th>\n",
              "      <th>PeriodStart</th>\n",
              "      <th>Period</th>\n",
              "      <th>AirTemp</th>\n",
              "      <th>Azimuth</th>\n",
              "      <th>CloudOpacity</th>\n",
              "      <th>DewpointTemp</th>\n",
              "      <th>Dhi</th>\n",
              "      <th>Dni</th>\n",
              "      <th>Ebh</th>\n",
              "      <th>Ghi</th>\n",
              "      <th>PrecipitableWater</th>\n",
              "      <th>RelativeHumidity</th>\n",
              "      <th>SnowDepth</th>\n",
              "      <th>SurfacePressure</th>\n",
              "      <th>WindDirection10m</th>\n",
              "      <th>WindSpeed10m</th>\n",
              "      <th>Zenith</th>\n",
              "    </tr>\n",
              "  </thead>\n",
              "  <tbody>\n",
              "    <tr>\n",
              "      <th>0</th>\n",
              "      <td>2019-01-21T03:00:00Z</td>\n",
              "      <td>2019-01-21T02:00:00Z</td>\n",
              "      <td>PT60M</td>\n",
              "      <td>27.4</td>\n",
              "      <td>-146</td>\n",
              "      <td>22.4</td>\n",
              "      <td>20.7</td>\n",
              "      <td>362</td>\n",
              "      <td>332</td>\n",
              "      <td>245</td>\n",
              "      <td>607</td>\n",
              "      <td>48.4</td>\n",
              "      <td>67.2</td>\n",
              "      <td>0.0</td>\n",
              "      <td>997.9</td>\n",
              "      <td>48</td>\n",
              "      <td>7.6</td>\n",
              "      <td>42</td>\n",
              "    </tr>\n",
              "    <tr>\n",
              "      <th>1</th>\n",
              "      <td>2019-01-21T04:00:00Z</td>\n",
              "      <td>2019-01-21T03:00:00Z</td>\n",
              "      <td>PT60M</td>\n",
              "      <td>27.8</td>\n",
              "      <td>-166</td>\n",
              "      <td>32.7</td>\n",
              "      <td>20.7</td>\n",
              "      <td>438</td>\n",
              "      <td>179</td>\n",
              "      <td>144</td>\n",
              "      <td>583</td>\n",
              "      <td>49.1</td>\n",
              "      <td>65.4</td>\n",
              "      <td>0.0</td>\n",
              "      <td>997.5</td>\n",
              "      <td>49</td>\n",
              "      <td>7.8</td>\n",
              "      <td>36</td>\n",
              "    </tr>\n",
              "    <tr>\n",
              "      <th>2</th>\n",
              "      <td>2019-01-21T05:00:00Z</td>\n",
              "      <td>2019-01-21T04:00:00Z</td>\n",
              "      <td>PT60M</td>\n",
              "      <td>28.0</td>\n",
              "      <td>170</td>\n",
              "      <td>43.9</td>\n",
              "      <td>20.9</td>\n",
              "      <td>423</td>\n",
              "      <td>84</td>\n",
              "      <td>69</td>\n",
              "      <td>492</td>\n",
              "      <td>49.8</td>\n",
              "      <td>65.4</td>\n",
              "      <td>0.0</td>\n",
              "      <td>996.7</td>\n",
              "      <td>50</td>\n",
              "      <td>7.7</td>\n",
              "      <td>36</td>\n",
              "    </tr>\n",
              "    <tr>\n",
              "      <th>3</th>\n",
              "      <td>2019-01-21T06:00:00Z</td>\n",
              "      <td>2019-01-21T05:00:00Z</td>\n",
              "      <td>PT60M</td>\n",
              "      <td>28.1</td>\n",
              "      <td>149</td>\n",
              "      <td>41.9</td>\n",
              "      <td>21.0</td>\n",
              "      <td>405</td>\n",
              "      <td>84</td>\n",
              "      <td>63</td>\n",
              "      <td>468</td>\n",
              "      <td>50.6</td>\n",
              "      <td>65.5</td>\n",
              "      <td>0.0</td>\n",
              "      <td>995.9</td>\n",
              "      <td>51</td>\n",
              "      <td>7.6</td>\n",
              "      <td>41</td>\n",
              "    </tr>\n",
              "    <tr>\n",
              "      <th>4</th>\n",
              "      <td>2019-01-21T07:00:00Z</td>\n",
              "      <td>2019-01-21T06:00:00Z</td>\n",
              "      <td>PT60M</td>\n",
              "      <td>27.8</td>\n",
              "      <td>134</td>\n",
              "      <td>39.5</td>\n",
              "      <td>21.1</td>\n",
              "      <td>335</td>\n",
              "      <td>110</td>\n",
              "      <td>73</td>\n",
              "      <td>408</td>\n",
              "      <td>51.2</td>\n",
              "      <td>66.9</td>\n",
              "      <td>0.0</td>\n",
              "      <td>995.5</td>\n",
              "      <td>51</td>\n",
              "      <td>7.4</td>\n",
              "      <td>50</td>\n",
              "    </tr>\n",
              "  </tbody>\n",
              "</table>\n",
              "</div>"
            ],
            "text/plain": [
              "              PeriodEnd           PeriodStart  ... WindSpeed10m  Zenith\n",
              "0  2019-01-21T03:00:00Z  2019-01-21T02:00:00Z  ...          7.6      42\n",
              "1  2019-01-21T04:00:00Z  2019-01-21T03:00:00Z  ...          7.8      36\n",
              "2  2019-01-21T05:00:00Z  2019-01-21T04:00:00Z  ...          7.7      36\n",
              "3  2019-01-21T06:00:00Z  2019-01-21T05:00:00Z  ...          7.6      41\n",
              "4  2019-01-21T07:00:00Z  2019-01-21T06:00:00Z  ...          7.4      50\n",
              "\n",
              "[5 rows x 18 columns]"
            ]
          },
          "metadata": {
            "tags": []
          },
          "execution_count": 10
        }
      ]
    },
    {
      "cell_type": "code",
      "metadata": {
        "id": "GdcSxkqTr4u6",
        "colab_type": "code",
        "colab": {}
      },
      "source": [
        ""
      ],
      "execution_count": 0,
      "outputs": []
    }
  ]
}